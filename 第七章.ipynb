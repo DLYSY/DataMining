{
 "cells": [
  {
   "attachments": {},
   "cell_type": "markdown",
   "metadata": {},
   "source": [
    "|课程名称：数据挖掘|学生姓名：邓力予|学生学号：20201910442|\n",
    "|-|-|-|\n",
    "|实验名称：第七章|\n",
    "|学院：数学与统计学院|专业：数据科学与大数据技术|年级：2020级|\n",
    "\n",
    "# 导入需要的包"
   ]
  },
  {
   "cell_type": "code",
   "execution_count": 1,
   "metadata": {},
   "outputs": [],
   "source": [
    "from pandas import read_csv,DataFrame\n",
    "from sklearn.neural_network import MLPClassifier\n",
    "from sklearn.metrics import accuracy_score\n",
    "from sklearn.model_selection import train_test_split\n",
    "from os.path import exists\n",
    "from os import mkdir"
   ]
  },
  {
   "attachments": {},
   "cell_type": "markdown",
   "metadata": {},
   "source": [
    "# 数据读取"
   ]
  },
  {
   "cell_type": "code",
   "execution_count": 2,
   "metadata": {},
   "outputs": [],
   "source": [
    "data_train=read_csv(\"./练习数据Datasets/movie_learning.csv\")\n",
    "data_test=read_csv(\"./练习数据Datasets/movie_test.csv\")"
   ]
  },
  {
   "attachments": {},
   "cell_type": "markdown",
   "metadata": {},
   "source": [
    "-  变量转换"
   ]
  },
  {
   "cell_type": "code",
   "execution_count": 3,
   "metadata": {},
   "outputs": [],
   "source": [
    "data_train.replace({\"competition\":{\"Low\":0,\"Medium\":1,\"High\":3},\"MPAA\":{\"G\":0,\"PG\":1,\"PG13\":2,\"R\":4},\"star\":{\"A\":0,\"B\":1,\"C\":2},\"genre\":{\"Action\":0,\"Cartoon\":1,\"Comedy\":2,\"Docum\":3,\"Horror\":4,\"ModerDrama\":5,\"SciFi\":6,\"Thriller\":7},\"TechEffect\":{\"Low\":0,\"Medium\":1,\"High\":2}},inplace=True)\n",
    "data_test.replace({\"competition\":{\"Low\":0,\"Medium\":1,\"High\":3},\"MPAA\":{\"G\":0,\"PG\":1,\"PG13\":2,\"R\":4},\"star\":{\"A\":0,\"B\":1,\"C\":2},\"genre\":{\"Action\":0,\"Cartoon\":1,\"Comedy\":2,\"Docum\":3,\"Horror\":4,\"ModerDrama\":5,\"SciFi\":6,\"Thriller\":7},\"TechEffect\":{\"Low\":0,\"Medium\":1,\"High\":2}},inplace=True)"
   ]
  },
  {
   "attachments": {},
   "cell_type": "markdown",
   "metadata": {},
   "source": [
    "# 拆分数据集\n",
    "\n",
    "## 训练集和验证集"
   ]
  },
  {
   "cell_type": "code",
   "execution_count": 4,
   "metadata": {},
   "outputs": [],
   "source": [
    "data_learn,data_verify=train_test_split(data_train,train_size=0.7)"
   ]
  },
  {
   "attachments": {},
   "cell_type": "markdown",
   "metadata": {},
   "source": [
    "## 拆分因/自变量，测试集"
   ]
  },
  {
   "cell_type": "code",
   "execution_count": 5,
   "metadata": {},
   "outputs": [],
   "source": [
    "data_learn_x=data_learn.iloc[:,1:-2]\n",
    "data_learn_cat_y=data_learn.iloc[:,-2]\n",
    "data_learn_cat2_y=data_learn.iloc[:,-1]\n",
    "\n",
    "data_verify_x=data_verify.iloc[:,1:-2]\n",
    "data_verify_cat_y=data_verify.iloc[:,-2]\n",
    "data_verify_cat2_y=data_verify.iloc[:,-1]\n",
    "\n",
    "data_test_x=data_test.iloc[:,1:-2]\n",
    "data_test_cat_y=data_test.iloc[:,-2]\n",
    "data_test_cat2_y=data_test.iloc[:,-1]"
   ]
  },
  {
   "attachments": {},
   "cell_type": "markdown",
   "metadata": {},
   "source": [
    "# GrossCat2\n",
    "\n",
    "## 建立模型"
   ]
  },
  {
   "cell_type": "code",
   "execution_count": 6,
   "metadata": {},
   "outputs": [
    {
     "name": "stderr",
     "output_type": "stream",
     "text": [
      "a:\\Program Files\\PF\\Miniconda3\\envs\\data-mining\\Lib\\site-packages\\sklearn\\neural_network\\_multilayer_perceptron.py:686: ConvergenceWarning: Stochastic Optimizer: Maximum iterations (200) reached and the optimization hasn't converged yet.\n",
      "  warnings.warn(\n"
     ]
    }
   ],
   "source": [
    "model_cat2_list=[MLPClassifier(activation=\"identity\"),\n",
    "                 MLPClassifier(activation=\"relu\"),\n",
    "                 MLPClassifier(activation=\"logistic\"),\n",
    "                 MLPClassifier(activation=\"tanh\")]\n",
    "for i in model_cat2_list:\n",
    "    i.fit(data_learn_x,data_learn_cat2_y)"
   ]
  },
  {
   "attachments": {},
   "cell_type": "markdown",
   "metadata": {},
   "source": [
    "## 根据验证集选择模型"
   ]
  },
  {
   "cell_type": "code",
   "execution_count": 7,
   "metadata": {},
   "outputs": [
    {
     "name": "stdout",
     "output_type": "stream",
     "text": [
      "0\n",
      "0.8\n"
     ]
    }
   ],
   "source": [
    "data_cat2_verify_y_list=[]\n",
    "for i in model_cat2_list:\n",
    "    data_cat2_verify_y_list.append(i.predict(data_verify_x))\n",
    "\n",
    "score_list_cat2=[]\n",
    "for i in data_cat2_verify_y_list:\n",
    "    score_list_cat2.append(accuracy_score(data_verify_cat2_y, i))\n",
    "\n",
    "for max_NO_cat2,score_cat2 in enumerate(score_list_cat2):\n",
    "    if score_cat2==max(score_list_cat2):\n",
    "        break\n",
    "print(max_NO_cat2)\n",
    "print(score_cat2)"
   ]
  },
  {
   "attachments": {},
   "cell_type": "markdown",
   "metadata": {},
   "source": [
    "选择RELU激活函数作为模型\n",
    "\n",
    "## 预测与真实对比表"
   ]
  },
  {
   "cell_type": "code",
   "execution_count": 8,
   "metadata": {},
   "outputs": [],
   "source": [
    "data_cat2_pre_y=model_cat2_list[max_NO_cat2].predict(data_test_x)"
   ]
  },
  {
   "cell_type": "code",
   "execution_count": 9,
   "metadata": {},
   "outputs": [
    {
     "name": "stdout",
     "output_type": "stream",
     "text": [
      "     0   1   2   3   4   5   6   7   8   9   ...  19  20  21  22  23  24  25  \\\n",
      "预测值   0   0   0   1   1   0   0   0   0   0  ...   0   1   0   0   1   1   1   \n",
      "真实值   0   0   0   0   1   0   0   0   0   0  ...   0   0   1   1   1   1   1   \n",
      "\n",
      "     26  27  28  \n",
      "预测值   0   0   0  \n",
      "真实值   1   1   1  \n",
      "\n",
      "[2 rows x 29 columns]\n"
     ]
    }
   ],
   "source": [
    "mlp_cat2=DataFrame((data_cat2_pre_y,data_test_cat2_y),index=(\"预测值\",\"真实值\"))\n",
    "print(mlp_cat2)\n",
    "if not exists(\"model_results\"):\n",
    "    mkdir(\"model_results\")\n",
    "mlp_cat2.to_csv(\"model_results/mlp_cat2.csv.xz\",compression=\"xz\")"
   ]
  },
  {
   "attachments": {},
   "cell_type": "markdown",
   "metadata": {},
   "source": [
    "# GrossCat\n",
    "\n",
    "## 建立模型"
   ]
  },
  {
   "cell_type": "code",
   "execution_count": 10,
   "metadata": {},
   "outputs": [
    {
     "name": "stderr",
     "output_type": "stream",
     "text": [
      "a:\\Program Files\\PF\\Miniconda3\\envs\\data-mining\\Lib\\site-packages\\sklearn\\neural_network\\_multilayer_perceptron.py:686: ConvergenceWarning: Stochastic Optimizer: Maximum iterations (200) reached and the optimization hasn't converged yet.\n",
      "  warnings.warn(\n",
      "a:\\Program Files\\PF\\Miniconda3\\envs\\data-mining\\Lib\\site-packages\\sklearn\\neural_network\\_multilayer_perceptron.py:686: ConvergenceWarning: Stochastic Optimizer: Maximum iterations (200) reached and the optimization hasn't converged yet.\n",
      "  warnings.warn(\n"
     ]
    }
   ],
   "source": [
    "model_cat_list=[MLPClassifier(activation=\"identity\"),\n",
    "                 MLPClassifier(activation=\"relu\"),\n",
    "                 MLPClassifier(activation=\"logistic\"),\n",
    "                 MLPClassifier(activation=\"tanh\")]\n",
    "for i in model_cat_list:\n",
    "    i.fit(data_learn_x,data_learn_cat_y)"
   ]
  },
  {
   "attachments": {},
   "cell_type": "markdown",
   "metadata": {},
   "source": [
    "## 根据验证集选择模型"
   ]
  },
  {
   "cell_type": "code",
   "execution_count": 11,
   "metadata": {},
   "outputs": [
    {
     "name": "stdout",
     "output_type": "stream",
     "text": [
      "3\n",
      "0.5428571428571428\n"
     ]
    }
   ],
   "source": [
    "data_cat_verify_y_list=[]\n",
    "for i in model_cat_list:\n",
    "    data_cat_verify_y_list.append(i.predict(data_verify_x))\n",
    "\n",
    "score_list_cat=[]\n",
    "for i in data_cat_verify_y_list:\n",
    "    score_list_cat.append(accuracy_score(data_verify_cat_y, i))\n",
    "\n",
    "for max_NO_cat,score_cat in enumerate(score_list_cat):\n",
    "    if score_cat==max(score_list_cat):\n",
    "        break\n",
    "\n",
    "print(max_NO_cat)\n",
    "print(score_cat)"
   ]
  },
  {
   "attachments": {},
   "cell_type": "markdown",
   "metadata": {},
   "source": [
    "选择logistic作为激活函数\n",
    "\n",
    "## 预测与真实对比表"
   ]
  },
  {
   "cell_type": "code",
   "execution_count": 12,
   "metadata": {},
   "outputs": [],
   "source": [
    "data_cat_pre_y=model_cat_list[max_NO_cat].predict(data_test_x)"
   ]
  },
  {
   "cell_type": "code",
   "execution_count": 13,
   "metadata": {},
   "outputs": [
    {
     "name": "stdout",
     "output_type": "stream",
     "text": [
      "     0   1   2   3   4   5   6   7   8   9   ...  19  20  21  22  23  24  25  \\\n",
      "预测值   2   3   2   3   3   1   1   2   2   3  ...   3   3   3   3   3   5   5   \n",
      "真实值   2   2   2   3   4   1   1   2   2   2  ...   3   3   5   5   5   5   5   \n",
      "\n",
      "     26  27  28  \n",
      "预测值   3   3   4  \n",
      "真实值   4   4   4  \n",
      "\n",
      "[2 rows x 29 columns]\n"
     ]
    }
   ],
   "source": [
    "mlp_cat=DataFrame((data_cat_pre_y,data_test_cat_y),index=(\"预测值\",\"真实值\"))\n",
    "print(mlp_cat)\n",
    "if not exists(\"model_results\"):\n",
    "    mkdir(\"model_results\")\n",
    "mlp_cat.to_csv(\"model_results/mlp_cat.csv.xz\",compression=\"xz\")"
   ]
  }
 ],
 "metadata": {
  "kernelspec": {
   "display_name": "data-mining",
   "language": "python",
   "name": "python3"
  },
  "language_info": {
   "codemirror_mode": {
    "name": "ipython",
    "version": 3
   },
   "file_extension": ".py",
   "mimetype": "text/x-python",
   "name": "python",
   "nbconvert_exporter": "python",
   "pygments_lexer": "ipython3",
   "version": "3.11.3"
  },
  "orig_nbformat": 4
 },
 "nbformat": 4,
 "nbformat_minor": 2
}
